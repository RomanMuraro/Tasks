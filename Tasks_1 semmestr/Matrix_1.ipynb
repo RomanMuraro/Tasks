{
 "cells": [
  {
   "cell_type": "code",
   "execution_count": 6,
   "id": "024b99a3",
   "metadata": {
    "scrolled": true
   },
   "outputs": [
    {
     "name": "stdout",
     "output_type": "stream",
     "text": [
      "y x = 2 3\n",
      "[-1, -1, 1, -1]\n",
      "[1, -1, -1, 1]\n",
      "[-1, -1, 1, -1]\n",
      "-4\n"
     ]
    }
   ],
   "source": [
    "import random\n",
    "\n",
    "def m(x):\n",
    "    a = []\n",
    "    for i in range(x):\n",
    "        a.append(random.choice([1, -1]))\n",
    "    a.append(0)\n",
    "    return a\n",
    "\n",
    "b = []\n",
    "a = 0\n",
    "\n",
    "y, x = input('y x = ').split()\n",
    "y = int(y)\n",
    "x = int(x)\n",
    "\n",
    "for j in range(y):\n",
    "    b.append(m(x))\n",
    "b.append([0] * (x + 1))\n",
    "\n",
    "for j in range(y + 1):\n",
    "    b[j][x]  = b[j][0]\n",
    "for k in range(x + 1):\n",
    "    b[y][k] = b[0][k]\n",
    "for j in range(y + 1):\n",
    "    print(b[j])\n",
    "for j in range(y):\n",
    "    for k in range(x):\n",
    "        a += b[j][k] * b[j + 1][k]\n",
    "        a += b[j][k] * b[j][k + 1]\n",
    "print(a)"
   ]
  },
  {
   "cell_type": "code",
   "execution_count": null,
   "id": "ad1e28f1",
   "metadata": {},
   "outputs": [],
   "source": []
  }
 ],
 "metadata": {
  "kernelspec": {
   "display_name": "Python 3",
   "language": "python",
   "name": "python3"
  },
  "language_info": {
   "codemirror_mode": {
    "name": "ipython",
    "version": 3
   },
   "file_extension": ".py",
   "mimetype": "text/x-python",
   "name": "python",
   "nbconvert_exporter": "python",
   "pygments_lexer": "ipython3",
   "version": "3.8.8"
  }
 },
 "nbformat": 4,
 "nbformat_minor": 5
}
