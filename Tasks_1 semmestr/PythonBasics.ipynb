{
 "cells": [
  {
   "cell_type": "code",
   "execution_count": 1,
   "id": "2a602b4e",
   "metadata": {},
   "outputs": [
    {
     "name": "stdout",
     "output_type": "stream",
     "text": [
      "20\n",
      "40\n",
      "60\n",
      "80\n",
      "100\n",
      "Stop\n",
      "['100', '40', '60', '80', '20']\n"
     ]
    }
   ],
   "source": [
    "list = []\n",
    "n = ''\n",
    "while n != 'Stop':\n",
    "    n = input()\n",
    "    list.append(n)\n",
    "list.pop(-1)\n",
    "a = list[0]\n",
    "b = list[-1]\n",
    "list.insert(0,b)\n",
    "list.append(a)\n",
    "list.pop(1)\n",
    "list.pop(-2)\n",
    "print(list)"
   ]
  },
  {
   "cell_type": "code",
   "execution_count": 2,
   "id": "6213ec4a",
   "metadata": {},
   "outputs": [
    {
     "name": "stdout",
     "output_type": "stream",
     "text": [
      "5\n"
     ]
    },
    {
     "data": {
      "text/plain": [
       "120"
      ]
     },
     "execution_count": 2,
     "metadata": {},
     "output_type": "execute_result"
    }
   ],
   "source": [
    "def F(n):\n",
    "    if n == 0:\n",
    "        return 1\n",
    "    return F(n-1)*n\n",
    "n = int(input())\n",
    "F(n)"
   ]
  },
  {
   "cell_type": "code",
   "execution_count": 3,
   "id": "2626f3f0",
   "metadata": {
    "scrolled": true
   },
   "outputs": [
    {
     "name": "stdout",
     "output_type": "stream",
     "text": [
      "Choose your hero: Rock\n",
      "Enemy choose: Scissors\n"
     ]
    },
    {
     "data": {
      "text/plain": [
       "'You win'"
      ]
     },
     "execution_count": 3,
     "metadata": {},
     "output_type": "execute_result"
    }
   ],
   "source": [
    "from random import randint\n",
    "def Player(a):\n",
    "    c = ''\n",
    "    comp = randint(0,2)\n",
    "    while a != 'Rock' and a != 'Paper' and a != 'Scissors':\n",
    "        if a != 'Rock' and a != 'Paper' and a != 'Scissors':\n",
    "            a = input('ERROR! Unknown hero. Avaliable heroes: Rock, Paper, Scissors: ')\n",
    "    \n",
    "    if comp == 0:\n",
    "            c = 'Rock'\n",
    "    elif comp == 1:\n",
    "            c = 'Paper'\n",
    "    elif comp == 2:\n",
    "            c ='Scissors'\n",
    "    print('Enemy choose:',c)\n",
    "    if a == c:\n",
    "        return 'Draw'\n",
    "    elif len(a) == 8 and len(c) == 4:\n",
    "        return 'You lose'\n",
    "    elif len(a) == 8 and len(c) == 5:\n",
    "        return 'You win'\n",
    "    elif len(a) == 5 and len(c) == 4:\n",
    "        return 'You win'\n",
    "    elif len(a) == 5 and len(c) == 8:\n",
    "        return 'You lose'\n",
    "    elif len(a) == 4 and len(c) == 5:\n",
    "        return 'You lose'\n",
    "    elif len(a) == 4 and len(c) == 8:\n",
    "        return 'You win'\n",
    "    \n",
    "a = input('Choose your hero: ')\n",
    "Player(a)"
   ]
  },
  {
   "cell_type": "code",
   "execution_count": null,
   "id": "acfb43cf",
   "metadata": {},
   "outputs": [],
   "source": []
  }
 ],
 "metadata": {
  "kernelspec": {
   "display_name": "Python 3",
   "language": "python",
   "name": "python3"
  },
  "language_info": {
   "codemirror_mode": {
    "name": "ipython",
    "version": 3
   },
   "file_extension": ".py",
   "mimetype": "text/x-python",
   "name": "python",
   "nbconvert_exporter": "python",
   "pygments_lexer": "ipython3",
   "version": "3.8.8"
  }
 },
 "nbformat": 4,
 "nbformat_minor": 5
}
