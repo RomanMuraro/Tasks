{
 "cells": [
  {
   "cell_type": "code",
   "execution_count": 42,
   "id": "76422a4e",
   "metadata": {},
   "outputs": [],
   "source": [
    "class Ship():\n",
    "    def __init__(self, name, ship_type, people_capacity, fuel_capacity):\n",
    "        self.name = name\n",
    "        self.ship_type = ship_type\n",
    "        self.people_capacity = people_capacity\n",
    "        self.fuel = 0 \n",
    "        self.fuel_capacity = fuel_capacity\n",
    "        self.status = 'ready'\n",
    "        \n",
    "        \n",
    "        \n",
    "    def fill_ship(self):\n",
    "        self.fuel = self.fuel_capacity\n",
    "        print('%s is full now' %self.name)\n",
    "        \n",
    "    def sailing(self):\n",
    "        if(self.fuel > 0 or self.status == 'ready'):\n",
    "            print('%s ready to sail' %self.name)\n",
    "        else:\n",
    "            print('please fuel %s or fix the %s' %self.name)\n",
    "            \n",
    "    def break_ship(self):\n",
    "        self.status = 'broke'\n",
    "        print('%s was crashed' %self.name)\n",
    "        \n",
    "    def fix_ship(self):\n",
    "        self.status = 'ready'\n",
    "        print('the %s is fully repaired and ready to sail' %self.name)\n",
    "        \n",
    "    def transporting(self):\n",
    "        if(self.people_capacity > 400 and self.fuel > 0 and self.status == 'ready'):\n",
    "            print('%s can transport people' %self.name)\n",
    "        else:\n",
    "            print('%s cannot transport people, choose another ship or fuel the ship or fix the ship' %self.name)\n",
    "            \n",
    "    def war(self):\n",
    "        if(self.ship_type == 'Military' and self.fuel > 0 and self.status == 'ready'):\n",
    "            print('%s in full combat readiness' %self.name)\n",
    "        else:\n",
    "            print('%s does not fit choose another ship or fuel the Sarych or fix the Sarych' %self.name)\n",
    "            \n",
    "    def transporting_cargo(self):\n",
    "        if(self.name == 'EverGiven' and self.status == 'ready'):\n",
    "            print('%s ready to sail' %self.name)\n",
    "        else:\n",
    "            print('Choose another ship or fix the EverGiven')"
   ]
  },
  {
   "cell_type": "code",
   "execution_count": 43,
   "id": "7054f40b",
   "metadata": {
    "scrolled": false
   },
   "outputs": [
    {
     "name": "stdout",
     "output_type": "stream",
     "text": [
      "Pobeda was crashed\n",
      "Pobeda cannot transport people, choose another ship or fuel the ship or fix the ship\n",
      "the Pobeda is fully repaired and ready to sail\n",
      "Pobeda cannot transport people, choose another ship or fuel the ship or fix the ship\n",
      "Pobeda is full now\n",
      "Pobeda can transport people\n",
      "Pobeda does not fit choose another ship or fuel the Sarych or fix the Sarych\n",
      "Sarych is full now\n",
      "Sarych in full combat readiness\n",
      "Choose another ship or fix the EverGiven\n",
      "EverGiven ready to sail\n"
     ]
    }
   ],
   "source": [
    "ship1 = Ship('Pobeda', 'Passenger', 435, 600)\n",
    "ship2 = Ship('EverGiven', 'Cargo', 100, 2000)\n",
    "ship3 = Ship('Sarych', 'Military', 350, 4000)\n",
    "ship1.break_ship()\n",
    "ship1.transporting()\n",
    "ship1.fix_ship()\n",
    "ship1.transporting()\n",
    "ship1.fill_ship()\n",
    "ship1.transporting()\n",
    "ship1.war()\n",
    "ship3.fill_ship()\n",
    "ship3.war()\n",
    "ship3.transporting_cargo()\n",
    "ship2.transporting_cargo()"
   ]
  },
  {
   "cell_type": "code",
   "execution_count": null,
   "id": "7351a477",
   "metadata": {},
   "outputs": [],
   "source": []
  }
 ],
 "metadata": {
  "kernelspec": {
   "display_name": "Python 3",
   "language": "python",
   "name": "python3"
  },
  "language_info": {
   "codemirror_mode": {
    "name": "ipython",
    "version": 3
   },
   "file_extension": ".py",
   "mimetype": "text/x-python",
   "name": "python",
   "nbconvert_exporter": "python",
   "pygments_lexer": "ipython3",
   "version": "3.8.8"
  }
 },
 "nbformat": 4,
 "nbformat_minor": 5
}
